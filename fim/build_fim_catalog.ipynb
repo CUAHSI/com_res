{
 "cells": [
  {
   "cell_type": "markdown",
   "id": "6b1a9972-cbc2-408f-a28b-6d3f447e75f0",
   "metadata": {},
   "source": [
    "The purpose of this notebook is to build a catalog/index of FIM maps using BigQuery"
   ]
  },
  {
   "cell_type": "code",
   "execution_count": 5,
   "id": "0c243e9f-be92-4374-bbc0-ea17e8863d42",
   "metadata": {},
   "outputs": [],
   "source": [
    "import os\n",
    "import typer\n",
    "\n",
    "import pandas as pd\n",
    "from pathlib import Path\n",
    "from typing import Optional\n",
    "from datetime import datetime\n",
    "from google.cloud import storage\n",
    "from google.cloud import bigquery\n",
    "\n",
    "from typing import Tuple, Optional\n",
    "\n",
    "from rich.progress import Progress"
   ]
  },
  {
   "cell_type": "code",
   "execution_count": 6,
   "id": "edc0a1ba-d842-4378-93a4-055f7dc5aa00",
   "metadata": {},
   "outputs": [],
   "source": [
    "def upload_to_gcs(local_file, bucket_name, dest_blob_name):\n",
    "    client = storage.Client()\n",
    "    bucket = client.bucket(bucket_name)\n",
    "    blob = bucket.blob(dest_blob_name)\n",
    "    blob.upload_from_filename(local_file)\n",
    "    print(f\"Uploaded to gs://{bucket_name}/{dest_blob_name}\")"
   ]
  },
  {
   "cell_type": "code",
   "execution_count": 7,
   "id": "6343436d-bfe4-4aba-bdbc-ba054e517f9e",
   "metadata": {},
   "outputs": [],
   "source": [
    "def upload_directory_to_gcs_with_progress(local_dir, bucket_name, gcs_prefix=\"\"):\n",
    "    client = storage.Client()\n",
    "    bucket = client.bucket(bucket_name)\n",
    "\n",
    "    # Collect all files to upload\n",
    "    file_list = []\n",
    "    for root, _, files in os.walk(local_dir):\n",
    "        for file_name in files:\n",
    "            local_path = os.path.join(root, file_name)\n",
    "            relative_path = os.path.relpath(local_path, local_dir)\n",
    "            blob_path = os.path.join(gcs_prefix, relative_path).replace(\"\\\\\", \"/\")\n",
    "            file_list.append((local_path, blob_path))\n",
    "\n",
    "    with Progress() as progress:\n",
    "        task = progress.add_task(\"Uploading\", total=len(file_list), filename=\"\")\n",
    "    \n",
    "        for local_path, blob_path in file_list:\n",
    "            progress.update(task, filename=os.path.basename(local_path))\n",
    "            blob = bucket.blob(blob_path)\n",
    "            blob.upload_from_filename(local_path)\n",
    "            progress.advance(task)"
   ]
  },
  {
   "cell_type": "markdown",
   "id": "17cba161-b911-44ee-ae8b-28ad5434eeba",
   "metadata": {},
   "source": [
    "## Build BigQuery Catalog"
   ]
  },
  {
   "cell_type": "code",
   "execution_count": 11,
   "id": "9c8d73d0-4f6e-46eb-97d7-775f31617001",
   "metadata": {},
   "outputs": [
    {
     "name": "stdout",
     "output_type": "stream",
     "text": [
      "Gathering COG files in com_res_fim_output with prefix '' and extension '.cog'...done\n",
      "Found 224497 matching files\n"
     ]
    }
   ],
   "source": [
    "gcs_bucket = 'com_res_fim_output'\n",
    "prefix = '' # TODO: replace with ''\n",
    "extension = \".cog\"\n",
    "\n",
    "# Connect to the GCS bucket and all the files matching the extension \"cog\" in\n",
    "# the all subdirectories. Save these as a list of paths.\n",
    "print(\n",
    "    f\"Gathering COG files in {gcs_bucket} with prefix '{prefix}' and extension '{extension}'...\",\n",
    "    end=\"\",\n",
    ")\n",
    "client = storage.Client()\n",
    "bucket = client.bucket(gcs_bucket)\n",
    "blobs = client.list_blobs(bucket, prefix=prefix)\n",
    "matching_files = []\n",
    "for blob in blobs:\n",
    "    if blob.name.endswith(extension):\n",
    "        matching_files.append(f\"gs://{gcs_bucket}/{blob.name}\")\n",
    "print(\"done\")\n",
    "\n",
    "print(f'Found {len(matching_files)} matching files')"
   ]
  },
  {
   "cell_type": "code",
   "execution_count": 12,
   "id": "c4508365-ed3d-41fe-8793-103b9f8353b2",
   "metadata": {},
   "outputs": [
    {
     "name": "stdout",
     "output_type": "stream",
     "text": [
      "CPU times: user 931 ms, sys: 81 ms, total: 1.01 s\n",
      "Wall time: 1.07 s\n"
     ]
    }
   ],
   "source": [
    "%%time \n",
    "\n",
    "# organize the matching files by reach id\n",
    "# extract FIM attributes and save them for building\n",
    "# that catalog later on.\n",
    "items = []\n",
    "for url in matching_files:\n",
    "    filename_parts = url.split('/')[-1].split('__')\n",
    "    item_id = url.split('/')[-1].replace(extension, \"\")\n",
    "    reach_id = int(filename_parts[0])\n",
    "    stage = float('.'.join(filename_parts[1].split('_')[0:2]))\n",
    "    flow = float(filename_parts[2].split('_')[0])\n",
    "\n",
    "    dat = {\n",
    "        'item_id': item_id,\n",
    "        'reach_id': reach_id,\n",
    "        'stage': stage,\n",
    "        'flow': flow,\n",
    "        \"asset_url\": url,\n",
    "        \"public_url\": f'https://storage.googleapis.com/{matching_files[0].replace(\"gs://\", \"\")}'\n",
    "           }\n",
    "    \n",
    "    items.append(dat)\n",
    "\n",
    "df = pd.DataFrame(items)\n"
   ]
  },
  {
   "cell_type": "code",
   "execution_count": 13,
   "id": "686ad366-5aeb-4870-b4cc-90c25e364251",
   "metadata": {},
   "outputs": [],
   "source": [
    "df.to_json(\"fim_catalog_index.jsonl\", orient=\"records\", lines=True)"
   ]
  },
  {
   "cell_type": "code",
   "execution_count": 14,
   "id": "8d349cb7-5908-4f41-ba6d-ff2186f0c56e",
   "metadata": {},
   "outputs": [
    {
     "name": "stdout",
     "output_type": "stream",
     "text": [
      "Uploaded to gs://com_res_fim_output/fim_catalog_index.jsonl\n"
     ]
    }
   ],
   "source": [
    "upload_to_gcs(\"fim_catalog_index.jsonl\", \"com_res_fim_output\", \"fim_catalog_index.jsonl\")"
   ]
  },
  {
   "cell_type": "code",
   "execution_count": 15,
   "id": "9632bcca-46f2-4f21-9469-ebd26f4b2efc",
   "metadata": {},
   "outputs": [],
   "source": [
    "def load_stac_to_bigquery(gcs_uri: str, table_id: str):\n",
    "    client = bigquery.Client()\n",
    "\n",
    "    job_config = bigquery.LoadJobConfig(\n",
    "        source_format=bigquery.SourceFormat.NEWLINE_DELIMITED_JSON,\n",
    "        autodetect=True,\n",
    "        write_disposition=bigquery.WriteDisposition.WRITE_TRUNCATE,\n",
    "    )\n",
    "\n",
    "    load_job = client.load_table_from_uri(gcs_uri, table_id, job_config=job_config)\n",
    "    load_job.result()  # Wait for job to complete\n",
    "    print(f\"Loaded {load_job.output_rows} rows to {table_id}\")"
   ]
  },
  {
   "cell_type": "code",
   "execution_count": 16,
   "id": "84144698-39ca-494d-8b12-380b1a2d5eea",
   "metadata": {},
   "outputs": [
    {
     "name": "stdout",
     "output_type": "stream",
     "text": [
      "Loaded 224497 rows to com-res.flood_data.fim_catalog\n"
     ]
    }
   ],
   "source": [
    "load_stac_to_bigquery(\"gs://com_res_fim_output/fim_catalog_index.jsonl\", \"com-res.flood_data.fim_catalog\")"
   ]
  },
  {
   "cell_type": "markdown",
   "id": "7a1cf848-648e-4114-be8b-e6f4002699c5",
   "metadata": {},
   "source": [
    "Test searching for a specific file."
   ]
  },
  {
   "cell_type": "code",
   "execution_count": 80,
   "id": "ac987951-ce3a-422b-ba62-e3b7a7338b99",
   "metadata": {},
   "outputs": [
    {
     "name": "stdout",
     "output_type": "stream",
     "text": [
      "gs://com_res_fim_output/flood_11010001/11010001_inundation/8584888/8584888__12_5_m__3668_cms_inundation.cog\n",
      "CPU times: user 1.26 ms, sys: 1.1 ms, total: 2.37 ms\n",
      "Wall time: 1.18 ms\n"
     ]
    }
   ],
   "source": [
    "%%time\n",
    "\n",
    "conn = sqlite3.connect(\"fim_catalog_index.db\")\n",
    "c = conn.cursor()\n",
    "\n",
    "reach_id = 8584888\n",
    "stage = 12.5\n",
    "flow = 3668\n",
    "\n",
    "results = c.execute(\"\"\"\n",
    "    SELECT cog_path\n",
    "    FROM inundation\n",
    "    WHERE reach_id = ? AND stage = ? AND flow = ?\n",
    "\"\"\", (reach_id, stage, flow)).fetchall()\n",
    "\n",
    "for row in results:\n",
    "    print(row[0])\n",
    "\n",
    "conn.close()"
   ]
  },
  {
   "cell_type": "markdown",
   "id": "4b710f3a-5ead-4cd8-aa3d-e41b82c368b5",
   "metadata": {},
   "source": [
    "Test searching for a range of files"
   ]
  },
  {
   "cell_type": "code",
   "execution_count": 82,
   "id": "1970a28d-dd9c-464b-bc7f-0547d6be1c7d",
   "metadata": {
    "collapsed": true,
    "jupyter": {
     "outputs_hidden": true
    }
   },
   "outputs": [
    {
     "name": "stdout",
     "output_type": "stream",
     "text": [
      "gs://com_res_fim_output/flood_11010001/11010001_inundation/8584888/8584888__0_5_m__13_cms_inundation.cog\n",
      "gs://com_res_fim_output/flood_11010001/11010001_inundation/8584888/8584888__1_0_m__40_cms_inundation.cog\n",
      "gs://com_res_fim_output/flood_11010001/11010001_inundation/8584888/8584888__1_5_m__78_cms_inundation.cog\n",
      "gs://com_res_fim_output/flood_11010001/11010001_inundation/8584888/8584888__2_0_m__125_cms_inundation.cog\n",
      "gs://com_res_fim_output/flood_11010001/11010001_inundation/8584888/8584888__2_5_m__180_cms_inundation.cog\n",
      "gs://com_res_fim_output/flood_11010001/11010001_inundation/8584888/8584888__3_0_m__244_cms_inundation.cog\n",
      "gs://com_res_fim_output/flood_11010001/11010001_inundation/8584888/8584888__3_5_m__315_cms_inundation.cog\n",
      "gs://com_res_fim_output/flood_11010001/11010001_inundation/8584888/8584888__4_0_m__394_cms_inundation.cog\n",
      "gs://com_res_fim_output/flood_11010001/11010001_inundation/8584888/8584888__4_5_m__485_cms_inundation.cog\n",
      "gs://com_res_fim_output/flood_11010001/11010001_inundation/8584888/8584888__5_0_m__587_cms_inundation.cog\n",
      "gs://com_res_fim_output/flood_11010001/11010001_inundation/8584888/8584888__5_5_m__698_cms_inundation.cog\n",
      "gs://com_res_fim_output/flood_11010001/11010001_inundation/8584888/8584888__6_0_m__820_cms_inundation.cog\n",
      "gs://com_res_fim_output/flood_11010001/11010001_inundation/8584888/8584888__6_5_m__959_cms_inundation.cog\n",
      "gs://com_res_fim_output/flood_11010001/11010001_inundation/8584888/8584888__7_0_m__1100_cms_inundation.cog\n",
      "gs://com_res_fim_output/flood_11010001/11010001_inundation/8584888/8584888__7_5_m__1259_cms_inundation.cog\n",
      "gs://com_res_fim_output/flood_11010001/11010001_inundation/8584888/8584888__8_0_m__1423_cms_inundation.cog\n",
      "gs://com_res_fim_output/flood_11010001/11010001_inundation/8584888/8584888__8_5_m__1600_cms_inundation.cog\n",
      "gs://com_res_fim_output/flood_11010001/11010001_inundation/8584888/8584888__9_0_m__1796_cms_inundation.cog\n",
      "gs://com_res_fim_output/flood_11010001/11010001_inundation/8584888/8584888__9_5_m__2015_cms_inundation.cog\n",
      "gs://com_res_fim_output/flood_11010001/11010001_inundation/8584888/8584888__10_0_m__2250_cms_inundation.cog\n",
      "gs://com_res_fim_output/flood_11010001/11010001_inundation/8584888/8584888__10_5_m__2497_cms_inundation.cog\n",
      "gs://com_res_fim_output/flood_11010001/11010001_inundation/8584888/8584888__11_0_m__2765_cms_inundation.cog\n",
      "gs://com_res_fim_output/flood_11010001/11010001_inundation/8584888/8584888__11_5_m__3039_cms_inundation.cog\n",
      "gs://com_res_fim_output/flood_11010001/11010001_inundation/8584888/8584888__12_0_m__3341_cms_inundation.cog\n",
      "gs://com_res_fim_output/flood_11010001/11010001_inundation/8584888/8584888__12_5_m__3668_cms_inundation.cog\n",
      "gs://com_res_fim_output/flood_11010001/11010001_inundation/8584888/8584888__13_0_m__4016_cms_inundation.cog\n",
      "gs://com_res_fim_output/flood_11010001/11010001_inundation/8584888/8584888__13_5_m__4368_cms_inundation.cog\n",
      "gs://com_res_fim_output/flood_11010001/11010001_inundation/8584888/8584888__14_0_m__4756_cms_inundation.cog\n",
      "gs://com_res_fim_output/flood_11010001/11010001_inundation/8584888/8584888__14_5_m__5182_cms_inundation.cog\n",
      "gs://com_res_fim_output/flood_11010001/11010001_inundation/8584888/8584888__15_0_m__5625_cms_inundation.cog\n",
      "gs://com_res_fim_output/flood_11010001/11010001_inundation/8584888/8584888__15_5_m__6081_cms_inundation.cog\n",
      "gs://com_res_fim_output/flood_11010001/11010001_inundation/8584888/8584888__16_0_m__6577_cms_inundation.cog\n",
      "gs://com_res_fim_output/flood_11010001/11010001_inundation/8584888/8584888__16_5_m__7112_cms_inundation.cog\n",
      "gs://com_res_fim_output/flood_11010001/11010001_inundation/8584888/8584888__17_0_m__7664_cms_inundation.cog\n",
      "gs://com_res_fim_output/flood_11010001/11010001_inundation/8584888/8584888__17_5_m__8243_cms_inundation.cog\n",
      "gs://com_res_fim_output/flood_11010001/11010001_inundation/8584888/8584888__18_0_m__8834_cms_inundation.cog\n",
      "gs://com_res_fim_output/flood_11010001/11010001_inundation/8584888/8584888__18_5_m__9492_cms_inundation.cog\n",
      "gs://com_res_fim_output/flood_11010001/11010001_inundation/8584888/8584888__19_0_m__10130_cms_inundation.cog\n",
      "gs://com_res_fim_output/flood_11010001/11010001_inundation/8584888/8584888__19_5_m__10814_cms_inundation.cog\n",
      "gs://com_res_fim_output/flood_11010001/11010001_inundation/8584888/8584888__20_0_m__11552_cms_inundation.cog\n",
      "gs://com_res_fim_output/flood_11010001/11010001_inundation/8584888/8584888__20_5_m__12446_cms_inundation.cog\n",
      "gs://com_res_fim_output/flood_11010001/11010001_inundation/8584888/8584888__21_0_m__13329_cms_inundation.cog\n",
      "gs://com_res_fim_output/flood_11010001/11010001_inundation/8584888/8584888__21_5_m__14312_cms_inundation.cog\n",
      "gs://com_res_fim_output/flood_11010001/11010001_inundation/8584888/8584888__22_0_m__15412_cms_inundation.cog\n",
      "gs://com_res_fim_output/flood_11010001/11010001_inundation/8584888/8584888__22_5_m__16509_cms_inundation.cog\n",
      "gs://com_res_fim_output/flood_11010001/11010001_inundation/8584888/8584888__23_0_m__17692_cms_inundation.cog\n",
      "gs://com_res_fim_output/flood_11010001/11010001_inundation/8584888/8584888__23_5_m__18952_cms_inundation.cog\n",
      "gs://com_res_fim_output/flood_11010001/11010001_inundation/8584888/8584888__24_0_m__20261_cms_inundation.cog\n",
      "gs://com_res_fim_output/flood_11010001/11010001_inundation/8584888/8584888__24_5_m__21697_cms_inundation.cog\n",
      "gs://com_res_fim_output/flood_11010001/11010001_inundation/8584888/8584888__25_0_m__23208_cms_inundation.cog\n",
      "CPU times: user 1.72 ms, sys: 2.43 ms, total: 4.15 ms\n",
      "Wall time: 4.16 ms\n"
     ]
    }
   ],
   "source": [
    "%%time\n",
    "\n",
    "conn = sqlite3.connect(\"fim_catalog_index.db\")\n",
    "c = conn.cursor()\n",
    "\n",
    "reach_id = 8584888\n",
    "\n",
    "results = c.execute(\"\"\"\n",
    "    SELECT cog_path\n",
    "    FROM inundation\n",
    "    WHERE reach_id = ? \n",
    "\"\"\", (reach_id,)).fetchall()\n",
    "\n",
    "for row in results:\n",
    "    print(row[0])\n",
    "\n",
    "conn.close()"
   ]
  },
  {
   "cell_type": "markdown",
   "id": "7b47644d-f401-43c2-b1ad-469d580eeafe",
   "metadata": {},
   "source": [
    "Unfortunately, this won't work if we want to access the database remotely :( "
   ]
  },
  {
   "cell_type": "markdown",
   "id": "e7e6211e-71d8-4321-ba6a-bad4e3156c66",
   "metadata": {},
   "source": [
    "## Query BigQuery"
   ]
  },
  {
   "cell_type": "markdown",
   "id": "c436cd9f-4f63-4a81-8d97-9eaa1b13e0cb",
   "metadata": {},
   "source": [
    "Query a single item"
   ]
  },
  {
   "cell_type": "code",
   "execution_count": 17,
   "id": "910dc434-1664-4e9d-b01a-0058df443c06",
   "metadata": {},
   "outputs": [],
   "source": [
    "from google.cloud import bigquery\n",
    "\n",
    "client = bigquery.Client(project=\"com-res\")"
   ]
  },
  {
   "cell_type": "code",
   "execution_count": 31,
   "id": "d30ccf8c-0fa8-42ad-b6d2-8eafc5743b31",
   "metadata": {
    "scrolled": true
   },
   "outputs": [
    {
     "name": "stdout",
     "output_type": "stream",
     "text": [
      "CPU times: user 11.8 ms, sys: 2.96 ms, total: 14.8 ms\n",
      "Wall time: 930 ms\n"
     ]
    }
   ],
   "source": [
    "%%time \n",
    "\n",
    "query = \"\"\"\n",
    "SELECT *\n",
    "FROM `com-res.flood_data.fim_catalog`\n",
    "WHERE reach_id = @reach_id\n",
    "ORDER BY stage ASC\n",
    "\"\"\"\n",
    "\n",
    "job_config = bigquery.QueryJobConfig(\n",
    "    query_parameters=[\n",
    "        bigquery.ScalarQueryParameter(\"reach_id\", \"INT64\", 8584970),\n",
    "    ]\n",
    ")\n",
    "\n",
    "query_job = client.query(query, job_config=job_config)\n",
    "\n",
    "results = dict(files = [],\n",
    "           flows_cms = [],\n",
    "           stages_m = [])\n",
    "\n",
    "for row in query_job:\n",
    "    results['files'].append(row['public_url'])\n",
    "    results['stages_m'].append(row['stage'])\n",
    "    results['flows_cms'].append(row['flow'])"
   ]
  },
  {
   "cell_type": "code",
   "execution_count": 32,
   "id": "ce44a8c7-f7bb-47d9-a7e0-60cb440d1f4f",
   "metadata": {},
   "outputs": [
    {
     "data": {
      "text/plain": [
       "{'files': ['https://storage.googleapis.com/com_res_fim_output/flood_01080103/01080103_inundation/9325928/9325928__0_5_m__36_cms_inundation.cog',\n",
       "  'https://storage.googleapis.com/com_res_fim_output/flood_01080103/01080103_inundation/9325928/9325928__0_5_m__36_cms_inundation.cog',\n",
       "  'https://storage.googleapis.com/com_res_fim_output/flood_01080103/01080103_inundation/9325928/9325928__0_5_m__36_cms_inundation.cog',\n",
       "  'https://storage.googleapis.com/com_res_fim_output/flood_01080103/01080103_inundation/9325928/9325928__0_5_m__36_cms_inundation.cog',\n",
       "  'https://storage.googleapis.com/com_res_fim_output/flood_01080103/01080103_inundation/9325928/9325928__0_5_m__36_cms_inundation.cog',\n",
       "  'https://storage.googleapis.com/com_res_fim_output/flood_01080103/01080103_inundation/9325928/9325928__0_5_m__36_cms_inundation.cog',\n",
       "  'https://storage.googleapis.com/com_res_fim_output/flood_01080103/01080103_inundation/9325928/9325928__0_5_m__36_cms_inundation.cog',\n",
       "  'https://storage.googleapis.com/com_res_fim_output/flood_01080103/01080103_inundation/9325928/9325928__0_5_m__36_cms_inundation.cog',\n",
       "  'https://storage.googleapis.com/com_res_fim_output/flood_01080103/01080103_inundation/9325928/9325928__0_5_m__36_cms_inundation.cog',\n",
       "  'https://storage.googleapis.com/com_res_fim_output/flood_01080103/01080103_inundation/9325928/9325928__0_5_m__36_cms_inundation.cog',\n",
       "  'https://storage.googleapis.com/com_res_fim_output/flood_01080103/01080103_inundation/9325928/9325928__0_5_m__36_cms_inundation.cog',\n",
       "  'https://storage.googleapis.com/com_res_fim_output/flood_01080103/01080103_inundation/9325928/9325928__0_5_m__36_cms_inundation.cog',\n",
       "  'https://storage.googleapis.com/com_res_fim_output/flood_01080103/01080103_inundation/9325928/9325928__0_5_m__36_cms_inundation.cog',\n",
       "  'https://storage.googleapis.com/com_res_fim_output/flood_01080103/01080103_inundation/9325928/9325928__0_5_m__36_cms_inundation.cog',\n",
       "  'https://storage.googleapis.com/com_res_fim_output/flood_01080103/01080103_inundation/9325928/9325928__0_5_m__36_cms_inundation.cog',\n",
       "  'https://storage.googleapis.com/com_res_fim_output/flood_01080103/01080103_inundation/9325928/9325928__0_5_m__36_cms_inundation.cog',\n",
       "  'https://storage.googleapis.com/com_res_fim_output/flood_01080103/01080103_inundation/9325928/9325928__0_5_m__36_cms_inundation.cog',\n",
       "  'https://storage.googleapis.com/com_res_fim_output/flood_01080103/01080103_inundation/9325928/9325928__0_5_m__36_cms_inundation.cog',\n",
       "  'https://storage.googleapis.com/com_res_fim_output/flood_01080103/01080103_inundation/9325928/9325928__0_5_m__36_cms_inundation.cog',\n",
       "  'https://storage.googleapis.com/com_res_fim_output/flood_01080103/01080103_inundation/9325928/9325928__0_5_m__36_cms_inundation.cog',\n",
       "  'https://storage.googleapis.com/com_res_fim_output/flood_01080103/01080103_inundation/9325928/9325928__0_5_m__36_cms_inundation.cog',\n",
       "  'https://storage.googleapis.com/com_res_fim_output/flood_01080103/01080103_inundation/9325928/9325928__0_5_m__36_cms_inundation.cog',\n",
       "  'https://storage.googleapis.com/com_res_fim_output/flood_01080103/01080103_inundation/9325928/9325928__0_5_m__36_cms_inundation.cog',\n",
       "  'https://storage.googleapis.com/com_res_fim_output/flood_01080103/01080103_inundation/9325928/9325928__0_5_m__36_cms_inundation.cog',\n",
       "  'https://storage.googleapis.com/com_res_fim_output/flood_01080103/01080103_inundation/9325928/9325928__0_5_m__36_cms_inundation.cog',\n",
       "  'https://storage.googleapis.com/com_res_fim_output/flood_01080103/01080103_inundation/9325928/9325928__0_5_m__36_cms_inundation.cog',\n",
       "  'https://storage.googleapis.com/com_res_fim_output/flood_01080103/01080103_inundation/9325928/9325928__0_5_m__36_cms_inundation.cog',\n",
       "  'https://storage.googleapis.com/com_res_fim_output/flood_01080103/01080103_inundation/9325928/9325928__0_5_m__36_cms_inundation.cog',\n",
       "  'https://storage.googleapis.com/com_res_fim_output/flood_01080103/01080103_inundation/9325928/9325928__0_5_m__36_cms_inundation.cog',\n",
       "  'https://storage.googleapis.com/com_res_fim_output/flood_01080103/01080103_inundation/9325928/9325928__0_5_m__36_cms_inundation.cog',\n",
       "  'https://storage.googleapis.com/com_res_fim_output/flood_01080103/01080103_inundation/9325928/9325928__0_5_m__36_cms_inundation.cog',\n",
       "  'https://storage.googleapis.com/com_res_fim_output/flood_01080103/01080103_inundation/9325928/9325928__0_5_m__36_cms_inundation.cog',\n",
       "  'https://storage.googleapis.com/com_res_fim_output/flood_01080103/01080103_inundation/9325928/9325928__0_5_m__36_cms_inundation.cog',\n",
       "  'https://storage.googleapis.com/com_res_fim_output/flood_01080103/01080103_inundation/9325928/9325928__0_5_m__36_cms_inundation.cog',\n",
       "  'https://storage.googleapis.com/com_res_fim_output/flood_01080103/01080103_inundation/9325928/9325928__0_5_m__36_cms_inundation.cog',\n",
       "  'https://storage.googleapis.com/com_res_fim_output/flood_01080103/01080103_inundation/9325928/9325928__0_5_m__36_cms_inundation.cog',\n",
       "  'https://storage.googleapis.com/com_res_fim_output/flood_01080103/01080103_inundation/9325928/9325928__0_5_m__36_cms_inundation.cog',\n",
       "  'https://storage.googleapis.com/com_res_fim_output/flood_01080103/01080103_inundation/9325928/9325928__0_5_m__36_cms_inundation.cog',\n",
       "  'https://storage.googleapis.com/com_res_fim_output/flood_01080103/01080103_inundation/9325928/9325928__0_5_m__36_cms_inundation.cog',\n",
       "  'https://storage.googleapis.com/com_res_fim_output/flood_01080103/01080103_inundation/9325928/9325928__0_5_m__36_cms_inundation.cog',\n",
       "  'https://storage.googleapis.com/com_res_fim_output/flood_01080103/01080103_inundation/9325928/9325928__0_5_m__36_cms_inundation.cog',\n",
       "  'https://storage.googleapis.com/com_res_fim_output/flood_01080103/01080103_inundation/9325928/9325928__0_5_m__36_cms_inundation.cog',\n",
       "  'https://storage.googleapis.com/com_res_fim_output/flood_01080103/01080103_inundation/9325928/9325928__0_5_m__36_cms_inundation.cog',\n",
       "  'https://storage.googleapis.com/com_res_fim_output/flood_01080103/01080103_inundation/9325928/9325928__0_5_m__36_cms_inundation.cog',\n",
       "  'https://storage.googleapis.com/com_res_fim_output/flood_01080103/01080103_inundation/9325928/9325928__0_5_m__36_cms_inundation.cog',\n",
       "  'https://storage.googleapis.com/com_res_fim_output/flood_01080103/01080103_inundation/9325928/9325928__0_5_m__36_cms_inundation.cog',\n",
       "  'https://storage.googleapis.com/com_res_fim_output/flood_01080103/01080103_inundation/9325928/9325928__0_5_m__36_cms_inundation.cog'],\n",
       " 'flows_cms': [145.0,\n",
       "  232.0,\n",
       "  333.0,\n",
       "  448.0,\n",
       "  577.0,\n",
       "  716.0,\n",
       "  867.0,\n",
       "  1029.0,\n",
       "  1199.0,\n",
       "  1378.0,\n",
       "  1569.0,\n",
       "  1771.0,\n",
       "  2222.0,\n",
       "  2461.0,\n",
       "  2720.0,\n",
       "  2989.0,\n",
       "  3259.0,\n",
       "  3547.0,\n",
       "  3852.0,\n",
       "  4173.0,\n",
       "  4520.0,\n",
       "  4878.0,\n",
       "  5251.0,\n",
       "  5641.0,\n",
       "  6046.0,\n",
       "  6456.0,\n",
       "  6901.0,\n",
       "  7387.0,\n",
       "  7885.0,\n",
       "  8387.0,\n",
       "  8926.0,\n",
       "  9480.0,\n",
       "  10047.0,\n",
       "  10634.0,\n",
       "  11263.0,\n",
       "  11941.0,\n",
       "  12610.0,\n",
       "  13333.0,\n",
       "  14082.0,\n",
       "  14849.0,\n",
       "  15635.0,\n",
       "  16465.0,\n",
       "  17321.0,\n",
       "  18225.0,\n",
       "  19146.0,\n",
       "  20111.0,\n",
       "  21103.0],\n",
       " 'stages_m': [1.5,\n",
       "  2.0,\n",
       "  2.5,\n",
       "  3.0,\n",
       "  3.5,\n",
       "  4.0,\n",
       "  4.5,\n",
       "  5.0,\n",
       "  5.5,\n",
       "  6.0,\n",
       "  6.5,\n",
       "  7.0,\n",
       "  8.0,\n",
       "  8.5,\n",
       "  9.0,\n",
       "  9.5,\n",
       "  10.0,\n",
       "  10.5,\n",
       "  11.0,\n",
       "  11.5,\n",
       "  12.0,\n",
       "  12.5,\n",
       "  13.0,\n",
       "  13.5,\n",
       "  14.0,\n",
       "  14.5,\n",
       "  15.0,\n",
       "  15.5,\n",
       "  16.0,\n",
       "  16.5,\n",
       "  17.0,\n",
       "  17.5,\n",
       "  18.0,\n",
       "  18.5,\n",
       "  19.0,\n",
       "  19.5,\n",
       "  20.0,\n",
       "  20.5,\n",
       "  21.0,\n",
       "  21.5,\n",
       "  22.0,\n",
       "  22.5,\n",
       "  23.0,\n",
       "  23.5,\n",
       "  24.0,\n",
       "  24.5,\n",
       "  25.0]}"
      ]
     },
     "execution_count": 32,
     "metadata": {},
     "output_type": "execute_result"
    }
   ],
   "source": [
    "results"
   ]
  },
  {
   "cell_type": "code",
   "execution_count": null,
   "id": "61834643-4922-486b-9683-e0fcc7dbc1d0",
   "metadata": {},
   "outputs": [],
   "source": []
  }
 ],
 "metadata": {
  "kernelspec": {
   "display_name": "Python 3 (ipykernel)",
   "language": "python",
   "name": "python3"
  },
  "language_info": {
   "codemirror_mode": {
    "name": "ipython",
    "version": 3
   },
   "file_extension": ".py",
   "mimetype": "text/x-python",
   "name": "python",
   "nbconvert_exporter": "python",
   "pygments_lexer": "ipython3",
   "version": "3.10.10"
  }
 },
 "nbformat": 4,
 "nbformat_minor": 5
}
